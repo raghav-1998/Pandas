{
 "cells": [
  {
   "cell_type": "markdown",
   "id": "652ea340",
   "metadata": {},
   "source": [
    "# Importing pandas"
   ]
  },
  {
   "cell_type": "code",
   "execution_count": 2,
   "id": "bd97a2ad",
   "metadata": {},
   "outputs": [],
   "source": [
    "import pandas as pd"
   ]
  },
  {
   "cell_type": "markdown",
   "id": "1f6a45d5",
   "metadata": {},
   "source": [
    "# Checking Pandas version"
   ]
  },
  {
   "cell_type": "code",
   "execution_count": 3,
   "id": "c6bc8d34",
   "metadata": {},
   "outputs": [
    {
     "name": "stdout",
     "output_type": "stream",
     "text": [
      "1.2.4\n"
     ]
    }
   ],
   "source": [
    "print(pd.__version__)"
   ]
  },
  {
   "cell_type": "code",
   "execution_count": 4,
   "id": "21068ea6",
   "metadata": {},
   "outputs": [],
   "source": [
    "mydataset={\n",
    "    'cars':['BMW','Volvo','Ford'],\n",
    "    'passings':[3,7,2]\n",
    "}"
   ]
  },
  {
   "cell_type": "code",
   "execution_count": 5,
   "id": "673acd64",
   "metadata": {},
   "outputs": [],
   "source": [
    "myVar=pd.DataFrame(mydataset)"
   ]
  },
  {
   "cell_type": "code",
   "execution_count": 7,
   "id": "2672c2e9",
   "metadata": {},
   "outputs": [
    {
     "name": "stdout",
     "output_type": "stream",
     "text": [
      "    cars  passings\n",
      "0    BMW         3\n",
      "1  Volvo         7\n",
      "2   Ford         2\n"
     ]
    }
   ],
   "source": [
    "print(myVar)"
   ]
  },
  {
   "cell_type": "raw",
   "id": "0c803d76",
   "metadata": {},
   "source": [
    "By default, index is 0, 1, 2. But we can change index by passing setting list of values in index attribute during DataFrame object creation"
   ]
  },
  {
   "cell_type": "code",
   "execution_count": 10,
   "id": "54c0c371",
   "metadata": {},
   "outputs": [],
   "source": [
    "myVar1=pd.DataFrame(mydataset,index=['R1','R2','R3'])"
   ]
  },
  {
   "cell_type": "code",
   "execution_count": 11,
   "id": "39557ec8",
   "metadata": {},
   "outputs": [
    {
     "name": "stdout",
     "output_type": "stream",
     "text": [
      "     cars  passings\n",
      "R1    BMW         3\n",
      "R2  Volvo         7\n",
      "R3   Ford         2\n"
     ]
    }
   ],
   "source": [
    "print(myVar1)"
   ]
  },
  {
   "cell_type": "code",
   "execution_count": null,
   "id": "01ba8345",
   "metadata": {},
   "outputs": [],
   "source": []
  }
 ],
 "metadata": {
  "kernelspec": {
   "display_name": "Python 3",
   "language": "python",
   "name": "python3"
  },
  "language_info": {
   "codemirror_mode": {
    "name": "ipython",
    "version": 3
   },
   "file_extension": ".py",
   "mimetype": "text/x-python",
   "name": "python",
   "nbconvert_exporter": "python",
   "pygments_lexer": "ipython3",
   "version": "3.8.3"
  }
 },
 "nbformat": 4,
 "nbformat_minor": 5
}
